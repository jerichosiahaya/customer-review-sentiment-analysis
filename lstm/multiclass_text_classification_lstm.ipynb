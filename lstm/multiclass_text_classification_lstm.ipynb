{
  "nbformat": 4,
  "nbformat_minor": 0,
  "metadata": {
    "colab": {
      "name": "multiclass_text_classification_lstm.ipynb",
      "provenance": []
    },
    "kernelspec": {
      "name": "python3",
      "display_name": "Python 3"
    },
    "language_info": {
      "name": "python"
    },
    "accelerator": "GPU"
  },
  "cells": [
    {
      "cell_type": "markdown",
      "metadata": {
        "id": "xzb0AUggCMal"
      },
      "source": [
        "# Preparation"
      ]
    },
    {
      "cell_type": "code",
      "metadata": {
        "id": "qfRkpWFVsfJw"
      },
      "source": [
        "import pandas as pd\n",
        "import numpy as np\n",
        "import matplotlib.pyplot as plt"
      ],
      "execution_count": null,
      "outputs": []
    },
    {
      "cell_type": "code",
      "metadata": {
        "id": "ZsGwTFP_vYGh",
        "colab": {
          "base_uri": "https://localhost:8080/"
        },
        "outputId": "dd037020-5e2d-46ec-8e48-48dae0867fab"
      },
      "source": [
        "df = pd.read_csv('train.csv')\n",
        "df.head()"
      ],
      "execution_count": null,
      "outputs": [
        {
          "output_type": "execute_result",
          "data": {
            "text/html": [
              "<div>\n",
              "<style scoped>\n",
              "    .dataframe tbody tr th:only-of-type {\n",
              "        vertical-align: middle;\n",
              "    }\n",
              "\n",
              "    .dataframe tbody tr th {\n",
              "        vertical-align: top;\n",
              "    }\n",
              "\n",
              "    .dataframe thead th {\n",
              "        text-align: right;\n",
              "    }\n",
              "</style>\n",
              "<table border=\"1\" class=\"dataframe\">\n",
              "  <thead>\n",
              "    <tr style=\"text-align: right;\">\n",
              "      <th></th>\n",
              "      <th>review_id</th>\n",
              "      <th>review</th>\n",
              "      <th>rating</th>\n",
              "    </tr>\n",
              "  </thead>\n",
              "  <tbody>\n",
              "    <tr>\n",
              "      <th>0</th>\n",
              "      <td>0</td>\n",
              "      <td>Ga disappointed neat products .. Meletot Hilsn...</td>\n",
              "      <td>1</td>\n",
              "    </tr>\n",
              "    <tr>\n",
              "      <th>1</th>\n",
              "      <td>1</td>\n",
              "      <td>Rdtanya replace broken glass, broken chargernya</td>\n",
              "      <td>1</td>\n",
              "    </tr>\n",
              "    <tr>\n",
              "      <th>2</th>\n",
              "      <td>2</td>\n",
              "      <td>Nyesel bngt dsni shopping antecedent photo mes...</td>\n",
              "      <td>1</td>\n",
              "    </tr>\n",
              "    <tr>\n",
              "      <th>3</th>\n",
              "      <td>3</td>\n",
              "      <td>Sent a light blue suit goods ga want a refund</td>\n",
              "      <td>1</td>\n",
              "    </tr>\n",
              "    <tr>\n",
              "      <th>4</th>\n",
              "      <td>4</td>\n",
              "      <td>Pendants came with dents and scratches on its ...</td>\n",
              "      <td>1</td>\n",
              "    </tr>\n",
              "  </tbody>\n",
              "</table>\n",
              "</div>"
            ],
            "text/plain": [
              "   review_id                                             review  rating\n",
              "0          0  Ga disappointed neat products .. Meletot Hilsn...       1\n",
              "1          1    Rdtanya replace broken glass, broken chargernya       1\n",
              "2          2  Nyesel bngt dsni shopping antecedent photo mes...       1\n",
              "3          3      Sent a light blue suit goods ga want a refund       1\n",
              "4          4  Pendants came with dents and scratches on its ...       1"
            ]
          },
          "metadata": {
            "tags": []
          },
          "execution_count": 10
        }
      ]
    },
    {
      "cell_type": "code",
      "metadata": {
        "colab": {
          "base_uri": "https://localhost:8080/"
        },
        "id": "Fy9r_D3MvgKw",
        "outputId": "95f0b9c8-35e8-4f08-bd89-0939afa1c974"
      },
      "source": [
        "df.isnull().sum()"
      ],
      "execution_count": null,
      "outputs": [
        {
          "output_type": "execute_result",
          "data": {
            "text/plain": [
              "review_id    0\n",
              "review       0\n",
              "rating       0\n",
              "dtype: int64"
            ]
          },
          "metadata": {
            "tags": []
          },
          "execution_count": 11
        }
      ]
    },
    {
      "cell_type": "code",
      "metadata": {
        "colab": {
          "base_uri": "https://localhost:8080/"
        },
        "id": "z8TJmQ4uv7zx",
        "outputId": "ce245133-9763-47d4-b4fe-7a0266f3797a"
      },
      "source": [
        "df.shape"
      ],
      "execution_count": null,
      "outputs": [
        {
          "output_type": "execute_result",
          "data": {
            "text/plain": [
              "(146811, 3)"
            ]
          },
          "metadata": {
            "tags": []
          },
          "execution_count": 12
        }
      ]
    },
    {
      "cell_type": "code",
      "metadata": {
        "colab": {
          "base_uri": "https://localhost:8080/"
        },
        "id": "7-VRVGYUwBAs",
        "outputId": "662b971c-39ef-4887-a099-872330d1f0c4"
      },
      "source": [
        "df['rating'].value_counts()"
      ],
      "execution_count": null,
      "outputs": [
        {
          "output_type": "execute_result",
          "data": {
            "text/plain": [
              "4    41865\n",
              "5    41515\n",
              "3    35941\n",
              "1    14785\n",
              "2    12705\n",
              "Name: rating, dtype: int64"
            ]
          },
          "metadata": {
            "tags": []
          },
          "execution_count": 13
        }
      ]
    },
    {
      "cell_type": "code",
      "metadata": {
        "colab": {
          "base_uri": "https://localhost:8080/"
        },
        "id": "IcT37H5swdsi",
        "outputId": "15d26830-7bc1-4bf8-a61a-ec3f8e271475"
      },
      "source": [
        "plt.hist(df['rating'],density=1, bins=20)\n",
        "plt.show()"
      ],
      "execution_count": null,
      "outputs": [
        {
          "output_type": "display_data",
          "data": {
            "image/png": "[encoded data removed]",
            "text/plain": [
              "<Figure size 432x288 with 1 Axes>"
            ]
          },
          "metadata": {
            "tags": [],
            "needs_background": "light"
          }
        }
      ]
    },
    {
      "cell_type": "markdown",
      "metadata": {
        "id": "r0kNVoFs0YyO"
      },
      "source": [
        "# Data Cleansing"
      ]
    },
    {
      "cell_type": "code",
      "metadata": {
        "id": "tu9mIlZODlJD"
      },
      "source": [
        "import string\n",
        "import re"
      ],
      "execution_count": null,
      "outputs": []
    },
    {
      "cell_type": "code",
      "metadata": {
        "colab": {
          "base_uri": "https://localhost:8080/"
        },
        "id": "4ZS6T-mGxwCu",
        "outputId": "8515937f-238a-4e3b-9ddd-f3ada93615a3"
      },
      "source": [
        "data = df[['review', 'rating']]\n",
        "data.head()"
      ],
      "execution_count": null,
      "outputs": [
        {
          "output_type": "execute_result",
          "data": {
            "text/html": [
              "<div>\n",
              "<style scoped>\n",
              "    .dataframe tbody tr th:only-of-type {\n",
              "        vertical-align: middle;\n",
              "    }\n",
              "\n",
              "    .dataframe tbody tr th {\n",
              "        vertical-align: top;\n",
              "    }\n",
              "\n",
              "    .dataframe thead th {\n",
              "        text-align: right;\n",
              "    }\n",
              "</style>\n",
              "<table border=\"1\" class=\"dataframe\">\n",
              "  <thead>\n",
              "    <tr style=\"text-align: right;\">\n",
              "      <th></th>\n",
              "      <th>review</th>\n",
              "      <th>rating</th>\n",
              "    </tr>\n",
              "  </thead>\n",
              "  <tbody>\n",
              "    <tr>\n",
              "      <th>0</th>\n",
              "      <td>Ga disappointed neat products .. Meletot Hilsn...</td>\n",
              "      <td>1</td>\n",
              "    </tr>\n",
              "    <tr>\n",
              "      <th>1</th>\n",
              "      <td>Rdtanya replace broken glass, broken chargernya</td>\n",
              "      <td>1</td>\n",
              "    </tr>\n",
              "    <tr>\n",
              "      <th>2</th>\n",
              "      <td>Nyesel bngt dsni shopping antecedent photo mes...</td>\n",
              "      <td>1</td>\n",
              "    </tr>\n",
              "    <tr>\n",
              "      <th>3</th>\n",
              "      <td>Sent a light blue suit goods ga want a refund</td>\n",
              "      <td>1</td>\n",
              "    </tr>\n",
              "    <tr>\n",
              "      <th>4</th>\n",
              "      <td>Pendants came with dents and scratches on its ...</td>\n",
              "      <td>1</td>\n",
              "    </tr>\n",
              "  </tbody>\n",
              "</table>\n",
              "</div>"
            ],
            "text/plain": [
              "                                              review  rating\n",
              "0  Ga disappointed neat products .. Meletot Hilsn...       1\n",
              "1    Rdtanya replace broken glass, broken chargernya       1\n",
              "2  Nyesel bngt dsni shopping antecedent photo mes...       1\n",
              "3      Sent a light blue suit goods ga want a refund       1\n",
              "4  Pendants came with dents and scratches on its ...       1"
            ]
          },
          "metadata": {
            "tags": []
          },
          "execution_count": 16
        }
      ]
    },
    {
      "cell_type": "code",
      "metadata": {
        "colab": {
          "base_uri": "https://localhost:8080/"
        },
        "id": "2JkKMsXT0cP1",
        "outputId": "b9df11b6-ebe9-4547-9737-79aab34a2c5c"
      },
      "source": [
        "def remove_punctuation(text):\n",
        "    no_punct=[words for words in text if words not in string.punctuation]\n",
        "    words_wo_punct=''.join(no_punct)\n",
        "    return words_wo_punct\n",
        "data['clean_text']=data['review'].apply(lambda x: remove_punctuation(x))\n",
        "data.head()"
      ],
      "execution_count": null,
      "outputs": [
        {
          "output_type": "execute_result",
          "data": {
            "text/html": [
              "<div>\n",
              "<style scoped>\n",
              "    .dataframe tbody tr th:only-of-type {\n",
              "        vertical-align: middle;\n",
              "    }\n",
              "\n",
              "    .dataframe tbody tr th {\n",
              "        vertical-align: top;\n",
              "    }\n",
              "\n",
              "    .dataframe thead th {\n",
              "        text-align: right;\n",
              "    }\n",
              "</style>\n",
              "<table border=\"1\" class=\"dataframe\">\n",
              "  <thead>\n",
              "    <tr style=\"text-align: right;\">\n",
              "      <th></th>\n",
              "      <th>review</th>\n",
              "      <th>rating</th>\n",
              "      <th>clean_text</th>\n",
              "    </tr>\n",
              "  </thead>\n",
              "  <tbody>\n",
              "    <tr>\n",
              "      <th>0</th>\n",
              "      <td>Ga disappointed neat products .. Meletot Hilsn...</td>\n",
              "      <td>1</td>\n",
              "      <td>Ga disappointed neat products  Meletot Hilsnya...</td>\n",
              "    </tr>\n",
              "    <tr>\n",
              "      <th>1</th>\n",
              "      <td>Rdtanya replace broken glass, broken chargernya</td>\n",
              "      <td>1</td>\n",
              "      <td>Rdtanya replace broken glass broken chargernya</td>\n",
              "    </tr>\n",
              "    <tr>\n",
              "      <th>2</th>\n",
              "      <td>Nyesel bngt dsni shopping antecedent photo mes...</td>\n",
              "      <td>1</td>\n",
              "      <td>Nyesel bngt dsni shopping antecedent photo mes...</td>\n",
              "    </tr>\n",
              "    <tr>\n",
              "      <th>3</th>\n",
              "      <td>Sent a light blue suit goods ga want a refund</td>\n",
              "      <td>1</td>\n",
              "      <td>Sent a light blue suit goods ga want a refund</td>\n",
              "    </tr>\n",
              "    <tr>\n",
              "      <th>4</th>\n",
              "      <td>Pendants came with dents and scratches on its ...</td>\n",
              "      <td>1</td>\n",
              "      <td>Pendants came with dents and scratches on its ...</td>\n",
              "    </tr>\n",
              "  </tbody>\n",
              "</table>\n",
              "</div>"
            ],
            "text/plain": [
              "                                              review  ...                                         clean_text\n",
              "0  Ga disappointed neat products .. Meletot Hilsn...  ...  Ga disappointed neat products  Meletot Hilsnya...\n",
              "1    Rdtanya replace broken glass, broken chargernya  ...     Rdtanya replace broken glass broken chargernya\n",
              "2  Nyesel bngt dsni shopping antecedent photo mes...  ...  Nyesel bngt dsni shopping antecedent photo mes...\n",
              "3      Sent a light blue suit goods ga want a refund  ...      Sent a light blue suit goods ga want a refund\n",
              "4  Pendants came with dents and scratches on its ...  ...  Pendants came with dents and scratches on its ...\n",
              "\n",
              "[5 rows x 3 columns]"
            ]
          },
          "metadata": {
            "tags": []
          },
          "execution_count": 17
        }
      ]
    },
    {
      "cell_type": "code",
      "metadata": {
        "colab": {
          "base_uri": "https://localhost:8080/"
        },
        "id": "zfF1hJ2m4Cah",
        "outputId": "22bf993b-a9fb-4f00-f48a-d39137b99ce3"
      },
      "source": [
        "#remove hyperlink\n",
        "data['clean_text'] = data['clean_text'].str.replace(r\"http\\S+\", \"\") \n",
        "#remove emoji\n",
        "data['clean_text'] = data['clean_text'].str.replace('[^\\w\\s#@/:%.,_-]', '', flags=re.UNICODE)\n",
        "#convert all words to lowercase\n",
        "data['clean_text'] = data['clean_text'].str.lower()\n",
        "data.head()"
      ],
      "execution_count": null,
      "outputs": [
        {
          "output_type": "execute_result",
          "data": {
            "text/html": [
              "<div>\n",
              "<style scoped>\n",
              "    .dataframe tbody tr th:only-of-type {\n",
              "        vertical-align: middle;\n",
              "    }\n",
              "\n",
              "    .dataframe tbody tr th {\n",
              "        vertical-align: top;\n",
              "    }\n",
              "\n",
              "    .dataframe thead th {\n",
              "        text-align: right;\n",
              "    }\n",
              "</style>\n",
              "<table border=\"1\" class=\"dataframe\">\n",
              "  <thead>\n",
              "    <tr style=\"text-align: right;\">\n",
              "      <th></th>\n",
              "      <th>review</th>\n",
              "      <th>rating</th>\n",
              "      <th>clean_text</th>\n",
              "    </tr>\n",
              "  </thead>\n",
              "  <tbody>\n",
              "    <tr>\n",
              "      <th>0</th>\n",
              "      <td>Ga disappointed neat products .. Meletot Hilsn...</td>\n",
              "      <td>1</td>\n",
              "      <td>ga disappointed neat products  meletot hilsnya...</td>\n",
              "    </tr>\n",
              "    <tr>\n",
              "      <th>1</th>\n",
              "      <td>Rdtanya replace broken glass, broken chargernya</td>\n",
              "      <td>1</td>\n",
              "      <td>rdtanya replace broken glass broken chargernya</td>\n",
              "    </tr>\n",
              "    <tr>\n",
              "      <th>2</th>\n",
              "      <td>Nyesel bngt dsni shopping antecedent photo mes...</td>\n",
              "      <td>1</td>\n",
              "      <td>nyesel bngt dsni shopping antecedent photo mes...</td>\n",
              "    </tr>\n",
              "    <tr>\n",
              "      <th>3</th>\n",
              "      <td>Sent a light blue suit goods ga want a refund</td>\n",
              "      <td>1</td>\n",
              "      <td>sent a light blue suit goods ga want a refund</td>\n",
              "    </tr>\n",
              "    <tr>\n",
              "      <th>4</th>\n",
              "      <td>Pendants came with dents and scratches on its ...</td>\n",
              "      <td>1</td>\n",
              "      <td>pendants came with dents and scratches on its ...</td>\n",
              "    </tr>\n",
              "  </tbody>\n",
              "</table>\n",
              "</div>"
            ],
            "text/plain": [
              "                                              review  ...                                         clean_text\n",
              "0  Ga disappointed neat products .. Meletot Hilsn...  ...  ga disappointed neat products  meletot hilsnya...\n",
              "1    Rdtanya replace broken glass, broken chargernya  ...     rdtanya replace broken glass broken chargernya\n",
              "2  Nyesel bngt dsni shopping antecedent photo mes...  ...  nyesel bngt dsni shopping antecedent photo mes...\n",
              "3      Sent a light blue suit goods ga want a refund  ...      sent a light blue suit goods ga want a refund\n",
              "4  Pendants came with dents and scratches on its ...  ...  pendants came with dents and scratches on its ...\n",
              "\n",
              "[5 rows x 3 columns]"
            ]
          },
          "metadata": {
            "tags": []
          },
          "execution_count": 18
        }
      ]
    },
    {
      "cell_type": "code",
      "metadata": {
        "id": "uzh_3mZ95wGq"
      },
      "source": [
        "# not my original code (spanyol code lol)\n",
        "def recover_shortened_words(text):\n",
        "  \n",
        "    text = re.sub(r'\\bapaa\\b', 'apa', text)\n",
        "    \n",
        "    text = re.sub(r'\\bbsk\\b', 'besok', text)\n",
        "    text = re.sub(r'\\bbrngnya\\b', 'barangnya', text)\n",
        "    text = re.sub(r'\\bbrp\\b', 'berapa', text)\n",
        "    text = re.sub(r'\\bbgt\\b', 'banget', text)\n",
        "    text = re.sub(r'\\bbngt\\b', 'banget', text)\n",
        "    text = re.sub(r'\\bgini\\b', 'begini', text)\n",
        "    text = re.sub(r'\\bbrg\\b', 'barang', text)\n",
        "    \n",
        "    text = re.sub(r'\\bdtg\\b', 'datang', text)\n",
        "    text = re.sub(r'\\bd\\b', 'di', text)\n",
        "    text = re.sub(r'\\bsdh\\b', 'sudah', text)\n",
        "    text = re.sub(r'\\bdri\\b', 'dari', text)\n",
        "    text = re.sub(r'\\bdsni\\b', 'disini', text)\n",
        "    \n",
        "    text = re.sub(r'\\bgk\\b', 'gak', text)\n",
        "    \n",
        "    text = re.sub(r'\\bhrs\\b', 'harus', text)\n",
        "    \n",
        "    text = re.sub(r'\\bjd\\b', 'jadi', text)\n",
        "    text = re.sub(r'\\bjg\\b', 'juga', text)\n",
        "    text = re.sub(r'\\bjgn\\b', 'jangan', text)\n",
        "    \n",
        "    text = re.sub(r'\\blg\\b', 'lagi', text)\n",
        "    text = re.sub(r'\\blgi\\b', 'lagi', text)\n",
        "    text = re.sub(r'\\blbh\\b', 'lebih', text)\n",
        "    text = re.sub(r'\\blbih\\b', 'lebih', text)\n",
        "    \n",
        "    text = re.sub(r'\\bmksh\\b', 'makasih', text)\n",
        "    text = re.sub(r'\\bmna\\b', 'mana', text)\n",
        "    \n",
        "    text = re.sub(r'\\borg\\b', 'orang', text)\n",
        "    \n",
        "    text = re.sub(r'\\bpjg\\b', 'panjang', text)\n",
        "    \n",
        "    text = re.sub(r'\\bka\\b', 'kakak', text)\n",
        "    text = re.sub(r'\\bkk\\b', 'kakak', text)\n",
        "    text = re.sub(r'\\bklo\\b', 'kalau', text)\n",
        "    text = re.sub(r'\\bkmrn\\b', 'kemarin', text)\n",
        "    text = re.sub(r'\\bkmrin\\b', 'kemarin', text)\n",
        "    text = re.sub(r'\\bknp\\b', 'kenapa', text)\n",
        "    text = re.sub(r'\\bkcil\\b', 'kecil', text)\n",
        "    \n",
        "    text = re.sub(r'\\bgmn\\b', 'gimana', text)\n",
        "    text = re.sub(r'\\bgmna\\b', 'gimana', text)\n",
        "    \n",
        "    text = re.sub(r'\\btp\\b', 'tapi', text)\n",
        "    text = re.sub(r'\\btq\\b', 'thanks', text)\n",
        "    text = re.sub(r'\\btks\\b', 'thanks', text)\n",
        "    text = re.sub(r'\\btlg\\b', 'tolong', text)\n",
        "    text = re.sub(r'\\bgk\\b', 'tidak', text)\n",
        "    text = re.sub(r'\\bgak\\b', 'tidak', text)\n",
        "    text = re.sub(r'\\bgpp\\b', 'tidak apa apa', text)\n",
        "    text = re.sub(r'\\bgapapa\\b', 'tidak apa apa', text)\n",
        "    text = re.sub(r'\\bga\\b', 'tidak', text)\n",
        "    text = re.sub(r'\\btgl\\b', 'tanggal', text)\n",
        "    text = re.sub(r'\\btggl\\b', 'tanggal', text)\n",
        "    text = re.sub(r'\\bgamau\\b', 'tidak mau', text)\n",
        "    \n",
        "    text = re.sub(r'\\bsy\\b', 'saya', text)\n",
        "    text = re.sub(r'\\bsis\\b', 'sister', text)\n",
        "    text = re.sub(r'\\bsdgkan\\b', 'sedangkan', text)\n",
        "    text = re.sub(r'\\bmdh2n\\b', 'semoga', text)\n",
        "    text = re.sub(r'\\bsmoga\\b', 'semoga', text)\n",
        "    text = re.sub(r'\\bsmpai\\b', 'sampai', text)\n",
        "    text = re.sub(r'\\bnympe\\b', 'sampai', text)\n",
        "    text = re.sub(r'\\bdah\\b', 'sudah', text)\n",
        "    \n",
        "    text = re.sub(r'\\bberkali2\\b', 'repeated', text)\n",
        "  \n",
        "    text = re.sub(r'\\byg\\b', 'yang', text)\n",
        "    \n",
        "    return text"
      ],
      "execution_count": null,
      "outputs": []
    },
    {
      "cell_type": "code",
      "metadata": {
        "colab": {
          "base_uri": "https://localhost:8080/"
        },
        "id": "zeNqFDgd7Wey",
        "outputId": "7781feb6-ef8b-4c9f-eb64-dd3422e4d39f"
      },
      "source": [
        "data['clean_text'] = data['clean_text'].apply(recover_shortened_words)\n",
        "data.head()"
      ],
      "execution_count": null,
      "outputs": [
        {
          "output_type": "execute_result",
          "data": {
            "text/html": [
              "<div>\n",
              "<style scoped>\n",
              "    .dataframe tbody tr th:only-of-type {\n",
              "        vertical-align: middle;\n",
              "    }\n",
              "\n",
              "    .dataframe tbody tr th {\n",
              "        vertical-align: top;\n",
              "    }\n",
              "\n",
              "    .dataframe thead th {\n",
              "        text-align: right;\n",
              "    }\n",
              "</style>\n",
              "<table border=\"1\" class=\"dataframe\">\n",
              "  <thead>\n",
              "    <tr style=\"text-align: right;\">\n",
              "      <th></th>\n",
              "      <th>review</th>\n",
              "      <th>rating</th>\n",
              "      <th>clean_text</th>\n",
              "    </tr>\n",
              "  </thead>\n",
              "  <tbody>\n",
              "    <tr>\n",
              "      <th>0</th>\n",
              "      <td>Ga disappointed neat products .. Meletot Hilsn...</td>\n",
              "      <td>1</td>\n",
              "      <td>tidak disappointed neat products  meletot hils...</td>\n",
              "    </tr>\n",
              "    <tr>\n",
              "      <th>1</th>\n",
              "      <td>Rdtanya replace broken glass, broken chargernya</td>\n",
              "      <td>1</td>\n",
              "      <td>rdtanya replace broken glass broken chargernya</td>\n",
              "    </tr>\n",
              "    <tr>\n",
              "      <th>2</th>\n",
              "      <td>Nyesel bngt dsni shopping antecedent photo mes...</td>\n",
              "      <td>1</td>\n",
              "      <td>nyesel banget disini shopping antecedent photo...</td>\n",
              "    </tr>\n",
              "    <tr>\n",
              "      <th>3</th>\n",
              "      <td>Sent a light blue suit goods ga want a refund</td>\n",
              "      <td>1</td>\n",
              "      <td>sent a light blue suit goods tidak want a refund</td>\n",
              "    </tr>\n",
              "    <tr>\n",
              "      <th>4</th>\n",
              "      <td>Pendants came with dents and scratches on its ...</td>\n",
              "      <td>1</td>\n",
              "      <td>pendants came with dents and scratches on its ...</td>\n",
              "    </tr>\n",
              "  </tbody>\n",
              "</table>\n",
              "</div>"
            ],
            "text/plain": [
              "                                              review  ...                                         clean_text\n",
              "0  Ga disappointed neat products .. Meletot Hilsn...  ...  tidak disappointed neat products  meletot hils...\n",
              "1    Rdtanya replace broken glass, broken chargernya  ...     rdtanya replace broken glass broken chargernya\n",
              "2  Nyesel bngt dsni shopping antecedent photo mes...  ...  nyesel banget disini shopping antecedent photo...\n",
              "3      Sent a light blue suit goods ga want a refund  ...   sent a light blue suit goods tidak want a refund\n",
              "4  Pendants came with dents and scratches on its ...  ...  pendants came with dents and scratches on its ...\n",
              "\n",
              "[5 rows x 3 columns]"
            ]
          },
          "metadata": {
            "tags": []
          },
          "execution_count": 20
        }
      ]
    },
    {
      "cell_type": "markdown",
      "metadata": {
        "id": "zSv-Rj8QDzLu"
      },
      "source": [
        "# Modeling"
      ]
    },
    {
      "cell_type": "code",
      "metadata": {
        "id": "er4NY6F9DyZ0"
      },
      "source": [
        "import tensorflow as tf\n",
        "from tensorflow.keras.preprocessing.text import Tokenizer\n",
        "from tensorflow.keras.preprocessing.sequence import pad_sequences\n",
        "from tensorflow.keras.models import Sequential\n",
        "from tensorflow.keras.layers import Dense, Flatten, LSTM, Dropout, Activation, Embedding, Bidirectional, SpatialDropout1D\n",
        "from sklearn.model_selection import train_test_split\n",
        "from tensorflow.compat.v1.keras.layers import CuDNNLSTM"
      ],
      "execution_count": null,
      "outputs": []
    },
    {
      "cell_type": "code",
      "metadata": {
        "colab": {
          "base_uri": "https://localhost:8080/"
        },
        "id": "3MNdMgzDUw6v",
        "outputId": "38d6b779-84af-4862-fbf0-b2d3b3645665"
      },
      "source": [
        "print(tf.__version__)"
      ],
      "execution_count": null,
      "outputs": [
        {
          "output_type": "stream",
          "text": [
            "2.4.1\n"
          ],
          "name": "stdout"
        }
      ]
    },
    {
      "cell_type": "code",
      "metadata": {
        "id": "MMuXjdeUEZvh"
      },
      "source": [
        "# set hyperparameter\n",
        "vocab_size = 5000 # make the top list of words (common words)\n",
        "embedding_dim = 32\n",
        "max_length = 354\n",
        "oov_tok = '<OOV>' # OOV = Out of Vocabulary"
      ],
      "execution_count": null,
      "outputs": []
    },
    {
      "cell_type": "code",
      "metadata": {
        "colab": {
          "base_uri": "https://localhost:8080/"
        },
        "id": "PjjoWoMtEn5H",
        "outputId": "71f0b35f-7390-4db6-d06f-892ea045bd8e"
      },
      "source": [
        "# splitting dataset\n",
        "X = data['clean_text']\n",
        "Y = data['rating']\n",
        "X_train, X_test, y_train, y_test = train_test_split(X,Y, test_size = 0.10, random_state = 42)\n",
        "print(X_train.shape,y_train.shape)\n",
        "print(X_test.shape,y_test.shape)"
      ],
      "execution_count": null,
      "outputs": [
        {
          "output_type": "stream",
          "text": [
            "(132129,) (132129,)\n",
            "(14682,) (14682,)\n"
          ],
          "name": "stdout"
        }
      ]
    },
    {
      "cell_type": "code",
      "metadata": {
        "id": "P8OvbAWhFPfU"
      },
      "source": [
        "# set tokenizer\n",
        "tokenizer = Tokenizer(num_words = vocab_size, oov_token=oov_tok)\n",
        "tokenizer.fit_on_texts(X_train)\n",
        "word_index = tokenizer.word_index"
      ],
      "execution_count": null,
      "outputs": []
    },
    {
      "cell_type": "code",
      "metadata": {
        "id": "Th6e9tiIFiCG"
      },
      "source": [
        " # training set\n",
        "train_sequences = tokenizer.texts_to_sequences(X_train)\n",
        "train_padded = pad_sequences(train_sequences, maxlen=max_length)"
      ],
      "execution_count": null,
      "outputs": []
    },
    {
      "cell_type": "code",
      "metadata": {
        "id": "ShqGGbrVF4Iy"
      },
      "source": [
        "# validation set\n",
        "validation_sequences = tokenizer.texts_to_sequences(X_test)\n",
        "validation_padded = pad_sequences(validation_sequences, maxlen=max_length)"
      ],
      "execution_count": null,
      "outputs": []
    },
    {
      "cell_type": "code",
      "metadata": {
        "colab": {
          "base_uri": "https://localhost:8080/"
        },
        "id": "aDO1N8WiEnpL",
        "outputId": "f44c77d2-2501-40bd-f0c4-2e14cf0e3ed2"
      },
      "source": [
        "from keras.utils import to_categorical\n",
        "print(set(data['rating']))\n",
        "#training_label_seq = np.asarray(train_labels).astype(np.float32)\n",
        "#validation_label_seq = np.asarray(validation_labels).astype(np.float32)\n",
        "training_label_seq = to_categorical(y_train)\n",
        "validation_label_seq = to_categorical(y_test)"
      ],
      "execution_count": null,
      "outputs": [
        {
          "output_type": "stream",
          "text": [
            "{1, 2, 3, 4, 5}\n"
          ],
          "name": "stdout"
        }
      ]
    },
    {
      "cell_type": "code",
      "metadata": {
        "colab": {
          "base_uri": "https://localhost:8080/"
        },
        "id": "VB9JeFCIIhZu",
        "outputId": "0db037e1-3b53-4f67-8063-af9e64bbe84e"
      },
      "source": [
        "# dropout to avoid overfitting\n",
        "# softmax as multiclass clf\n",
        "model = Sequential()\n",
        "\n",
        "model.add(Embedding(vocab_size, embedding_dim))\n",
        "model.add(Dropout(0.5))\n",
        "model.add(Bidirectional(CuDNNLSTM(embedding_dim)))\n",
        "model.add(Dense(6, activation='softmax'))\n",
        "\n",
        "model.summary()"
      ],
      "execution_count": null,
      "outputs": [
        {
          "output_type": "stream",
          "text": [
            "Model: \"sequential\"\n",
            "_________________________________________________________________\n",
            "Layer (type)                 Output Shape              Param #   \n",
            "=================================================================\n",
            "embedding (Embedding)        (None, None, 32)          160000    \n",
            "_________________________________________________________________\n",
            "dropout (Dropout)            (None, None, 32)          0         \n",
            "_________________________________________________________________\n",
            "bidirectional (Bidirectional (None, 64)                16896     \n",
            "_________________________________________________________________\n",
            "dense (Dense)                (None, 6)                 390       \n",
            "=================================================================\n",
            "Total params: 177,286\n",
            "Trainable params: 177,286\n",
            "Non-trainable params: 0\n",
            "_________________________________________________________________\n"
          ],
          "name": "stdout"
        }
      ]
    },
    {
      "cell_type": "code",
      "metadata": {
        "id": "pkpigOU8JZZ_"
      },
      "source": [
        "# pakai sparse_categorical_crossentropy kalau ada 1D integer hot encode\n",
        "# categorical_crossentropy for 2D w/o hot encode\n",
        "model.compile(\n",
        "    loss='categorical_crossentropy',\n",
        "    optimizer='Adam',\n",
        "    metrics=['accuracy']\n",
        ")"
      ],
      "execution_count": null,
      "outputs": []
    },
    {
      "cell_type": "markdown",
      "metadata": {
        "id": "GwUjwuFHN_GY"
      },
      "source": [
        "Test Model 2"
      ]
    },
    {
      "cell_type": "code",
      "metadata": {
        "colab": {
          "base_uri": "https://localhost:8080/"
        },
        "id": "4yx6xKHFNMQK",
        "outputId": "590774d2-4b6b-4a34-ba5f-4a0dd614ec94"
      },
      "source": [
        "phrase_len = X_train.apply(lambda p: len(p.split(' ')))\n",
        "phrase_len.max()"
      ],
      "execution_count": null,
      "outputs": [
        {
          "output_type": "execute_result",
          "data": {
            "text/plain": [
              "354"
            ]
          },
          "metadata": {
            "tags": []
          },
          "execution_count": 64
        }
      ]
    },
    {
      "cell_type": "code",
      "metadata": {
        "colab": {
          "base_uri": "https://localhost:8080/"
        },
        "id": "BttcB4XmMcp7",
        "outputId": "621a8762-03fc-42c8-baf0-3156fc44f8a8"
      },
      "source": [
        "# model 2 test\n",
        "# dropout to avoid overfitting\n",
        "# softmax as multiclass clf\n",
        "model = Sequential()\n",
        "model.add(Embedding(input_dim=vocab_size, output_dim=embedding_dim, input_length=354))\n",
        "model.add(SpatialDropout1D(0.3))\n",
        "model.add(LSTM(256, dropout = 0.3, recurrent_dropout = 0.3))\n",
        "model.add(Dense(256, activation = 'relu'))\n",
        "model.add(Dropout(0.3))\n",
        "model.add(Dense(6, activation = 'softmax'))\n",
        "model.summary()"
      ],
      "execution_count": null,
      "outputs": [
        {
          "output_type": "stream",
          "text": [
            "Model: \"sequential_12\"\n",
            "_________________________________________________________________\n",
            "Layer (type)                 Output Shape              Param #   \n",
            "=================================================================\n",
            "embedding_12 (Embedding)     (None, 354, 32)           160000    \n",
            "_________________________________________________________________\n",
            "spatial_dropout1d_1 (Spatial (None, 354, 32)           0         \n",
            "_________________________________________________________________\n",
            "lstm_12 (LSTM)               (None, 256)               295936    \n",
            "_________________________________________________________________\n",
            "dense_13 (Dense)             (None, 256)               65792     \n",
            "_________________________________________________________________\n",
            "dropout_12 (Dropout)         (None, 256)               0         \n",
            "_________________________________________________________________\n",
            "dense_14 (Dense)             (None, 6)                 1542      \n",
            "=================================================================\n",
            "Total params: 523,270\n",
            "Trainable params: 523,270\n",
            "Non-trainable params: 0\n",
            "_________________________________________________________________\n"
          ],
          "name": "stdout"
        }
      ]
    },
    {
      "cell_type": "code",
      "metadata": {
        "id": "dyrFqEyYN6uE"
      },
      "source": [
        "model.compile(\n",
        "    loss='categorical_crossentropy',\n",
        "    optimizer='Adam',\n",
        "    metrics=['accuracy']\n",
        ")"
      ],
      "execution_count": null,
      "outputs": []
    },
    {
      "cell_type": "code",
      "metadata": {
        "colab": {
          "base_uri": "https://localhost:8080/"
        },
        "id": "so1CCPYlNLu7",
        "outputId": "bc002500-82e0-4829-9f4f-f65c9fcdb668"
      },
      "source": [
        "print(train_padded.shape)\n",
        "print(training_label_seq.shape)\n",
        "print(validation_padded.shape)\n",
        "print(validation_label_seq.shape)"
      ],
      "execution_count": null,
      "outputs": [
        {
          "output_type": "stream",
          "text": [
            "(132129, 200)\n",
            "(132129, 6)\n",
            "(14682, 200)\n",
            "(14682, 6)\n"
          ],
          "name": "stdout"
        }
      ]
    },
    {
      "cell_type": "code",
      "metadata": {
        "colab": {
          "base_uri": "https://localhost:8080/"
        },
        "id": "AsXKjtRPJ3Mw",
        "outputId": "962c93ef-efc3-4bc1-d68f-659226f39602"
      },
      "source": [
        "training_label_seq"
      ],
      "execution_count": null,
      "outputs": [
        {
          "output_type": "execute_result",
          "data": {
            "text/plain": [
              "array([[0., 0., 0., 1., 0., 0.],\n",
              "       [0., 0., 0., 1., 0., 0.],\n",
              "       [0., 0., 0., 0., 0., 1.],\n",
              "       ...,\n",
              "       [0., 0., 0., 0., 1., 0.],\n",
              "       [0., 0., 0., 0., 0., 1.],\n",
              "       [0., 0., 0., 0., 0., 1.]], dtype=float32)"
            ]
          },
          "metadata": {
            "tags": []
          },
          "execution_count": 61
        }
      ]
    },
    {
      "cell_type": "markdown",
      "metadata": {
        "id": "KQh73cTKVvMG"
      },
      "source": [
        "## Fit Model"
      ]
    },
    {
      "cell_type": "code",
      "metadata": {
        "colab": {
          "base_uri": "https://localhost:8080/"
        },
        "id": "mvEMVPKYJa20",
        "outputId": "7ef987a5-10f3-4fe6-e304-c2f31e1a7e76"
      },
      "source": [
        "num_epochs = 10\n",
        "history = model.fit(train_padded, training_label_seq, epochs=num_epochs, batch_size=10, validation_data=(validation_padded, validation_label_seq), verbose=2)"
      ],
      "execution_count": null,
      "outputs": [
        {
          "output_type": "stream",
          "text": [
            "Epoch 1/10\n",
            "13213/13213 - 433s - loss: 1.1227 - accuracy: 0.4619 - val_loss: 1.0480 - val_accuracy: 0.4897\n",
            "Epoch 2/10\n",
            "13213/13213 - 416s - loss: 1.0476 - accuracy: 0.4897 - val_loss: 1.0286 - val_accuracy: 0.4932\n",
            "Epoch 3/10\n",
            "13213/13213 - 419s - loss: 1.0272 - accuracy: 0.4996 - val_loss: 1.0271 - val_accuracy: 0.4901\n",
            "Epoch 4/10\n",
            "13213/13213 - 419s - loss: 1.0142 - accuracy: 0.5054 - val_loss: 1.0259 - val_accuracy: 0.4926\n",
            "Epoch 5/10\n",
            "13213/13213 - 419s - loss: 1.0059 - accuracy: 0.5088 - val_loss: 1.0234 - val_accuracy: 0.4946\n",
            "Epoch 6/10\n",
            "13213/13213 - 418s - loss: 0.9980 - accuracy: 0.5125 - val_loss: 1.0267 - val_accuracy: 0.5004\n",
            "Epoch 7/10\n",
            "13213/13213 - 419s - loss: 0.9938 - accuracy: 0.5132 - val_loss: 1.0220 - val_accuracy: 0.4946\n",
            "Epoch 8/10\n",
            "13213/13213 - 420s - loss: 0.9888 - accuracy: 0.5159 - val_loss: 1.0247 - val_accuracy: 0.4965\n",
            "Epoch 9/10\n",
            "13213/13213 - 420s - loss: 0.9845 - accuracy: 0.5188 - val_loss: 1.0238 - val_accuracy: 0.4967\n",
            "Epoch 10/10\n",
            "13213/13213 - 421s - loss: 0.9819 - accuracy: 0.5205 - val_loss: 1.0320 - val_accuracy: 0.4973\n"
          ],
          "name": "stdout"
        }
      ]
    },
    {
      "cell_type": "code",
      "metadata": {
        "colab": {
          "base_uri": "https://localhost:8080/",
          "height": 541
        },
        "id": "WUuBizAMVrl7",
        "outputId": "a9783c5b-87d5-49d1-a407-a51861b7224a"
      },
      "source": [
        "# plot history accuracy\n",
        "def plot_graphs(history, string):\n",
        "  plt.plot(history.history[string])\n",
        "  plt.plot(history.history['val_'+string])\n",
        "  plt.xlabel(\"Epochs\")\n",
        "  plt.ylabel(string)\n",
        "  plt.legend([string, 'val_'+string])\n",
        "  plt.show()\n",
        "  \n",
        "plot_graphs(history, \"accuracy\")\n",
        "plot_graphs(history, \"loss\")"
      ],
      "execution_count": null,
      "outputs": [
        {
          "output_type": "display_data",
          "data": {
            "image/png": "[encoded data removed]",
            "text/plain": [
              "<Figure size 432x288 with 1 Axes>"
            ]
          },
          "metadata": {
            "tags": [],
            "needs_background": "light"
          }
        },
        {
          "output_type": "display_data",
          "data": {
            "image/png": "[encoded data removed]",
            "text/plain": [
              "<Figure size 432x288 with 1 Axes>"
            ]
          },
          "metadata": {
            "tags": [],
            "needs_background": "light"
          }
        }
      ]
    },
    {
      "cell_type": "markdown",
      "metadata": {
        "id": "pH2NrgqbX0sz"
      },
      "source": [
        "# Predict"
      ]
    },
    {
      "cell_type": "code",
      "metadata": {
        "colab": {
          "base_uri": "https://localhost:8080/"
        },
        "id": "Xj4KuyvK7czV",
        "outputId": "7dd13f85-5527-43f4-b18f-cdc34945edd9"
      },
      "source": [
        "# predict 1 - fake generated review\n",
        "txt = [\"barangnya bagus, seller oke dan terpercaya, mantaplah pokoknya.\"]\n",
        "seq = tokenizer.texts_to_sequences(txt)\n",
        "padded = pad_sequences(seq, maxlen=max_length)\n",
        "pred = model.predict(padded)\n",
        "print(np.argmax(pred))"
      ],
      "execution_count": null,
      "outputs": [
        {
          "output_type": "stream",
          "text": [
            "4\n"
          ],
          "name": "stdout"
        }
      ]
    },
    {
      "cell_type": "code",
      "metadata": {
        "colab": {
          "base_uri": "https://localhost:8080/"
        },
        "id": "Rc7yjutRFYUH",
        "outputId": "d836683b-ba7e-4882-9a0a-85a170d1b918"
      },
      "source": [
        "# predict 2 - fake generated review\n",
        "txt = [\"dissapointed, seller galak dan barang telat nyampe.\"]\n",
        "seq = tokenizer.texts_to_sequences(txt)\n",
        "padded = pad_sequences(seq, maxlen=max_length)\n",
        "pred = model.predict(padded)\n",
        "print(np.argmax(pred))"
      ],
      "execution_count": null,
      "outputs": [
        {
          "output_type": "stream",
          "text": [
            "1\n"
          ],
          "name": "stdout"
        }
      ]
    },
    {
      "cell_type": "code",
      "metadata": {
        "colab": {
          "base_uri": "https://localhost:8080/"
        },
        "id": "cUq4JKhUWZ5c",
        "outputId": "45f416f2-a1b6-4c00-bbff-0c2c25338a6f"
      },
      "source": [
        "# predict 3 - taken from shopee real customer review with 3 stars rating\n",
        "txt = [\"Kl aku LBh suka yg real gini tmn tmn,kadang ad jg fg yg suka konyol kadang bajunya wrna merah di edit look nya ala tone kuning gt pas baju merah nya berubah jd kuning,lahhh percuma donk manten Ny pilih merah bajunya di edit kuning 😤😤😤\"]\n",
        "seq = tokenizer.texts_to_sequences(txt)\n",
        "padded = pad_sequences(seq, maxlen=max_length)\n",
        "pred = model.predict(padded)\n",
        "print(np.argmax(pred))"
      ],
      "execution_count": null,
      "outputs": [
        {
          "output_type": "stream",
          "text": [
            "3\n"
          ],
          "name": "stdout"
        }
      ]
    },
    {
      "cell_type": "code",
      "metadata": {
        "colab": {
          "base_uri": "https://localhost:8080/"
        },
        "id": "l4auFB6cWfvM",
        "outputId": "bf2d8f04-f87b-462e-fb37-e73d6bd471bd"
      },
      "source": [
        "# predict 4 - taken from shopee real customer review with 4 stars rating\n",
        "txt = [\"Harga sama kualitas sesuailah yaaaa....suka sekali sama modelnya warna navy nya juga bagus...ga bladus....meskipun ada sobekannya dikit....tolong diperhatikan lagi yaaaa....\"]\n",
        "seq = tokenizer.texts_to_sequences(txt)\n",
        "padded = pad_sequences(seq, maxlen=max_length)\n",
        "pred = model.predict(padded)\n",
        "print(np.argmax(pred))"
      ],
      "execution_count": null,
      "outputs": [
        {
          "output_type": "stream",
          "text": [
            "4\n"
          ],
          "name": "stdout"
        }
      ]
    },
    {
      "cell_type": "code",
      "metadata": {
        "colab": {
          "base_uri": "https://localhost:8080/"
        },
        "id": "D9HRpKLpXOC9",
        "outputId": "e937f160-c677-4111-aa34-23e10b549b7b"
      },
      "source": [
        "# predict 5 - taken from shopee real customer review with 2 stars rating\n",
        "txt = [\"Alhamdulillah paket sudah saya terima. Tpi saya kecewa, Krn pesen warna mustard koq datangnya coklat? Pdhl bwt dress code acara\"]\n",
        "seq = tokenizer.texts_to_sequences(txt)\n",
        "padded = pad_sequences(seq, maxlen=max_length)\n",
        "pred = model.predict(padded)\n",
        "print(np.argmax(pred))"
      ],
      "execution_count": null,
      "outputs": [
        {
          "output_type": "stream",
          "text": [
            "2\n"
          ],
          "name": "stdout"
        }
      ]
    },
    {
      "cell_type": "markdown",
      "metadata": {
        "id": "IlVAd7YGaW0L"
      },
      "source": [
        "# Save Model"
      ]
    },
    {
      "cell_type": "code",
      "metadata": {
        "colab": {
          "base_uri": "https://localhost:8080/"
        },
        "id": "wFQSBm-3XZEz",
        "outputId": "893972dd-52a3-4a65-9e08-0f6778689eae"
      },
      "source": [
        "# save model, just in case\n",
        "model.save('lstm_multiclass_text_1')"
      ],
      "execution_count": null,
      "outputs": [
        {
          "output_type": "stream",
          "text": [
            "WARNING:absl:Found untraced functions such as lstm_cell_1_layer_call_and_return_conditional_losses, lstm_cell_1_layer_call_fn, lstm_cell_2_layer_call_and_return_conditional_losses, lstm_cell_2_layer_call_fn, lstm_cell_1_layer_call_fn while saving (showing 5 of 10). These functions will not be directly callable after loading.\n",
            "WARNING:absl:Found untraced functions such as lstm_cell_1_layer_call_and_return_conditional_losses, lstm_cell_1_layer_call_fn, lstm_cell_2_layer_call_and_return_conditional_losses, lstm_cell_2_layer_call_fn, lstm_cell_1_layer_call_fn while saving (showing 5 of 10). These functions will not be directly callable after loading.\n"
          ],
          "name": "stderr"
        },
        {
          "output_type": "stream",
          "text": [
            "INFO:tensorflow:Assets written to: lstm_multiclass_text_1/assets\n"
          ],
          "name": "stdout"
        },
        {
          "output_type": "stream",
          "text": [
            "INFO:tensorflow:Assets written to: lstm_multiclass_text_1/assets\n"
          ],
          "name": "stderr"
        }
      ]
    },
    {
      "cell_type": "code",
      "metadata": {
        "id": "Vdt-A45iZe6L"
      },
      "source": [
        "# to load the model\n",
        "#new_model = tf.keras.models.load_model('lstm_multiclass_text_1')"
      ],
      "execution_count": null,
      "outputs": []
    },
    {
      "cell_type": "markdown",
      "metadata": {
        "id": "phXmaaErancU"
      },
      "source": [
        "Save with HDF5 format"
      ]
    },
    {
      "cell_type": "code",
      "metadata": {
        "colab": {
          "base_uri": "https://localhost:8080/"
        },
        "id": "Q_l1rOZrabTI",
        "outputId": "44beb839-cbd6-4f46-9d70-83c0b468397d"
      },
      "source": [
        "!pip install pyyaml h5py  # Required to save models in HDF5 format"
      ],
      "execution_count": null,
      "outputs": [
        {
          "output_type": "stream",
          "text": [
            "Requirement already satisfied: pyyaml in /usr/local/lib/python3.7/dist-packages (3.13)\n",
            "Requirement already satisfied: h5py in /usr/local/lib/python3.7/dist-packages (2.10.0)\n",
            "Requirement already satisfied: numpy>=1.7 in /usr/local/lib/python3.7/dist-packages (from h5py) (1.19.5)\n",
            "Requirement already satisfied: six in /usr/local/lib/python3.7/dist-packages (from h5py) (1.15.0)\n"
          ],
          "name": "stdout"
        }
      ]
    },
    {
      "cell_type": "code",
      "metadata": {
        "id": "ntJ-ISl3ab_g"
      },
      "source": [
        "# Save the entire model to a HDF5 file.\n",
        "# The '.h5' extension indicates that the model should be saved to HDF5.\n",
        "model.save('lstm_mtclass_text_1.h5') "
      ],
      "execution_count": null,
      "outputs": []
    },
    {
      "cell_type": "code",
      "metadata": {
        "id": "g2gO6ZthawsU"
      },
      "source": [
        "# Recreate the exact same model, including its weights and the optimizer\n",
        "new_model = tf.keras.models.load_model('lstm_mtclass_text_1.h5')\n",
        "\n",
        "# Show the model architecture\n",
        "new_model.summary()"
      ],
      "execution_count": null,
      "outputs": []
    }
  ]
}