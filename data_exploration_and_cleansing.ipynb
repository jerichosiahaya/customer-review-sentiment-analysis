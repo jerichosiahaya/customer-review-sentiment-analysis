{
 "cells": [
  {
   "cell_type": "code",
   "execution_count": 19,
   "metadata": {},
   "outputs": [],
   "source": [
    "import pandas as pd\n",
    "import numpy as np\n",
    "import matplotlib.pyplot as plt\n",
    "import seaborn as sns"
   ]
  },
  {
   "cell_type": "code",
   "execution_count": 2,
   "metadata": {},
   "outputs": [
    {
     "data": {
      "text/html": [
       "<div>\n",
       "<style scoped>\n",
       "    .dataframe tbody tr th:only-of-type {\n",
       "        vertical-align: middle;\n",
       "    }\n",
       "\n",
       "    .dataframe tbody tr th {\n",
       "        vertical-align: top;\n",
       "    }\n",
       "\n",
       "    .dataframe thead th {\n",
       "        text-align: right;\n",
       "    }\n",
       "</style>\n",
       "<table border=\"1\" class=\"dataframe\">\n",
       "  <thead>\n",
       "    <tr style=\"text-align: right;\">\n",
       "      <th></th>\n",
       "      <th>review_id</th>\n",
       "      <th>review</th>\n",
       "      <th>rating</th>\n",
       "    </tr>\n",
       "  </thead>\n",
       "  <tbody>\n",
       "    <tr>\n",
       "      <th>0</th>\n",
       "      <td>0</td>\n",
       "      <td>Ga disappointed neat products .. Meletot Hilsn...</td>\n",
       "      <td>1</td>\n",
       "    </tr>\n",
       "    <tr>\n",
       "      <th>1</th>\n",
       "      <td>1</td>\n",
       "      <td>Rdtanya replace broken glass, broken chargernya</td>\n",
       "      <td>1</td>\n",
       "    </tr>\n",
       "    <tr>\n",
       "      <th>2</th>\n",
       "      <td>2</td>\n",
       "      <td>Nyesel bngt dsni shopping antecedent photo mes...</td>\n",
       "      <td>1</td>\n",
       "    </tr>\n",
       "    <tr>\n",
       "      <th>3</th>\n",
       "      <td>3</td>\n",
       "      <td>Sent a light blue suit goods ga want a refund</td>\n",
       "      <td>1</td>\n",
       "    </tr>\n",
       "    <tr>\n",
       "      <th>4</th>\n",
       "      <td>4</td>\n",
       "      <td>Pendants came with dents and scratches on its ...</td>\n",
       "      <td>1</td>\n",
       "    </tr>\n",
       "  </tbody>\n",
       "</table>\n",
       "</div>"
      ],
      "text/plain": [
       "   review_id                                             review  rating\n",
       "0          0  Ga disappointed neat products .. Meletot Hilsn...       1\n",
       "1          1    Rdtanya replace broken glass, broken chargernya       1\n",
       "2          2  Nyesel bngt dsni shopping antecedent photo mes...       1\n",
       "3          3      Sent a light blue suit goods ga want a refund       1\n",
       "4          4  Pendants came with dents and scratches on its ...       1"
      ]
     },
     "execution_count": 2,
     "metadata": {},
     "output_type": "execute_result"
    }
   ],
   "source": [
    "# import dataset\n",
    "df = pd.read_csv('datasets/train.csv')\n",
    "df.head()"
   ]
  },
  {
   "cell_type": "markdown",
   "metadata": {},
   "source": [
    "## Exploration"
   ]
  },
  {
   "cell_type": "code",
   "execution_count": 3,
   "metadata": {},
   "outputs": [
    {
     "name": "stdout",
     "output_type": "stream",
     "text": [
      "Shape of data:  (146811, 3)\n"
     ]
    }
   ],
   "source": [
    "print('Shape of data: ', df.shape)\n",
    "\n",
    "# 146811 rows, 3 colums"
   ]
  },
  {
   "cell_type": "code",
   "execution_count": 4,
   "metadata": {},
   "outputs": [
    {
     "data": {
      "text/plain": [
       "review_id    0\n",
       "review       0\n",
       "rating       0\n",
       "dtype: int64"
      ]
     },
     "execution_count": 4,
     "metadata": {},
     "output_type": "execute_result"
    }
   ],
   "source": [
    "df.isnull().sum()\n",
    "\n",
    "# there is no null values "
   ]
  },
  {
   "cell_type": "code",
   "execution_count": 25,
   "metadata": {},
   "outputs": [
    {
     "name": "stdout",
     "output_type": "stream",
     "text": [
      "Rating types:  [1 2 3 4 5]\n",
      "Rating proportion:\n",
      " 4    41865\n",
      "5    41515\n",
      "3    35941\n",
      "1    14785\n",
      "2    12705\n",
      "Name: rating, dtype: int64\n"
     ]
    }
   ],
   "source": [
    "print('Rating types: ', df['rating'].unique())\n",
    "print('Rating proportion:\\n',df['rating'].value_counts())"
   ]
  },
  {
   "cell_type": "code",
   "execution_count": 54,
   "metadata": {},
   "outputs": [
    {
     "data": {
      "text/plain": [
       "Text(0, 0.5, 'Count')"
      ]
     },
     "execution_count": 54,
     "metadata": {},
     "output_type": "execute_result"
    },
    {
     "data": {
      "image/png": "[encoded data removed]",
      "text/plain": [
       "<Figure size 432x288 with 1 Axes>"
      ]
     },
     "metadata": {
      "needs_background": "light"
     },
     "output_type": "display_data"
    }
   ],
   "source": [
    "values = df['rating'].value_counts().sort_index()\n",
    "idx = df['rating'].unique()\n",
    "clrs = ['grey' if (x < max(values)) else 'blue' for x in values ]\n",
    "ax = sns.barplot(x=idx, y=values, palette=clrs) # color=clrs)\n",
    "ax.set_title('Rating Distribution')\n",
    "ax.set_xlabel('Rating')\n",
    "ax.set_ylabel('Count')\n",
    "\n",
    "# people mostly give 4 rating"
   ]
  },
  {
   "cell_type": "code",
   "execution_count": 64,
   "metadata": {},
   "outputs": [
    {
     "data": {
      "text/plain": [
       "Text(0.5, 1.0, 'Number of characters present in each sentence')"
      ]
     },
     "execution_count": 64,
     "metadata": {},
     "output_type": "execute_result"
    },
    {
     "data": {
      "image/png": "[encoded data removed]",
      "text/plain": [
       "<Figure size 432x288 with 1 Axes>"
      ]
     },
     "metadata": {
      "needs_background": "light"
     },
     "output_type": "display_data"
    }
   ],
   "source": [
    "ax = df['review'].str.len().hist()\n",
    "plt.title('Number of characters present in each sentence')"
   ]
  },
  {
   "cell_type": "markdown",
   "metadata": {},
   "source": [
    "Array-nya gak mampu, kalau bisa di-run pakai laptop/PC yang memadai"
   ]
  },
  {
   "cell_type": "code",
   "execution_count": 95,
   "metadata": {},
   "outputs": [],
   "source": [
    "# you have to run cleansing process first\n",
    "#from sklearn.feature_extraction.text import CountVectorizer\n",
    "#vectorizer = CountVectorizer()\n",
    "#X = data['clean_text_stopwords']\n",
    "#text_vec = vectorizer.fit_transform(X.values.astype('U'))\n",
    "#word_count = pd.DataFrame(text_vec.toarray(), columns=vectorizer.get_feature_names())"
   ]
  },
  {
   "cell_type": "code",
   "execution_count": 96,
   "metadata": {},
   "outputs": [],
   "source": [
    "#word_list = vectorizer.get_feature_names()\n",
    "#count_list = text_vec.toarray().sum(axis=0) \n",
    "#word_freq = dict(zip(word_list,count_list))\n",
    "#sorted(word_freq.items(), key=lambda x: x[1], reverse=True)"
   ]
  },
  {
   "cell_type": "code",
   "execution_count": null,
   "metadata": {},
   "outputs": [],
   "source": [
    "#from yellowbrick.text import FreqDistVisualizer\n",
    "#visualizer = FreqDistVisualizer(features=word_list, orient='v')\n",
    "#visualizer.fit(text_vec)\n",
    "#visualizer.show()"
   ]
  },
  {
   "cell_type": "markdown",
   "metadata": {},
   "source": [
    "## Cleansing"
   ]
  },
  {
   "cell_type": "code",
   "execution_count": 76,
   "metadata": {},
   "outputs": [],
   "source": [
    "import string\n",
    "import re"
   ]
  },
  {
   "cell_type": "code",
   "execution_count": 77,
   "metadata": {},
   "outputs": [
    {
     "data": {
      "text/html": [
       "<div>\n",
       "<style scoped>\n",
       "    .dataframe tbody tr th:only-of-type {\n",
       "        vertical-align: middle;\n",
       "    }\n",
       "\n",
       "    .dataframe tbody tr th {\n",
       "        vertical-align: top;\n",
       "    }\n",
       "\n",
       "    .dataframe thead th {\n",
       "        text-align: right;\n",
       "    }\n",
       "</style>\n",
       "<table border=\"1\" class=\"dataframe\">\n",
       "  <thead>\n",
       "    <tr style=\"text-align: right;\">\n",
       "      <th></th>\n",
       "      <th>review</th>\n",
       "      <th>rating</th>\n",
       "    </tr>\n",
       "  </thead>\n",
       "  <tbody>\n",
       "    <tr>\n",
       "      <th>0</th>\n",
       "      <td>Ga disappointed neat products .. Meletot Hilsn...</td>\n",
       "      <td>1</td>\n",
       "    </tr>\n",
       "    <tr>\n",
       "      <th>1</th>\n",
       "      <td>Rdtanya replace broken glass, broken chargernya</td>\n",
       "      <td>1</td>\n",
       "    </tr>\n",
       "    <tr>\n",
       "      <th>2</th>\n",
       "      <td>Nyesel bngt dsni shopping antecedent photo mes...</td>\n",
       "      <td>1</td>\n",
       "    </tr>\n",
       "    <tr>\n",
       "      <th>3</th>\n",
       "      <td>Sent a light blue suit goods ga want a refund</td>\n",
       "      <td>1</td>\n",
       "    </tr>\n",
       "    <tr>\n",
       "      <th>4</th>\n",
       "      <td>Pendants came with dents and scratches on its ...</td>\n",
       "      <td>1</td>\n",
       "    </tr>\n",
       "  </tbody>\n",
       "</table>\n",
       "</div>"
      ],
      "text/plain": [
       "                                              review  rating\n",
       "0  Ga disappointed neat products .. Meletot Hilsn...       1\n",
       "1    Rdtanya replace broken glass, broken chargernya       1\n",
       "2  Nyesel bngt dsni shopping antecedent photo mes...       1\n",
       "3      Sent a light blue suit goods ga want a refund       1\n",
       "4  Pendants came with dents and scratches on its ...       1"
      ]
     },
     "execution_count": 77,
     "metadata": {},
     "output_type": "execute_result"
    }
   ],
   "source": [
    "data = df[['review', 'rating']]\n",
    "data.head()"
   ]
  },
  {
   "cell_type": "code",
   "execution_count": 78,
   "metadata": {},
   "outputs": [
    {
     "data": {
      "text/html": [
       "<div>\n",
       "<style scoped>\n",
       "    .dataframe tbody tr th:only-of-type {\n",
       "        vertical-align: middle;\n",
       "    }\n",
       "\n",
       "    .dataframe tbody tr th {\n",
       "        vertical-align: top;\n",
       "    }\n",
       "\n",
       "    .dataframe thead th {\n",
       "        text-align: right;\n",
       "    }\n",
       "</style>\n",
       "<table border=\"1\" class=\"dataframe\">\n",
       "  <thead>\n",
       "    <tr style=\"text-align: right;\">\n",
       "      <th></th>\n",
       "      <th>review</th>\n",
       "      <th>rating</th>\n",
       "      <th>clean_text</th>\n",
       "    </tr>\n",
       "  </thead>\n",
       "  <tbody>\n",
       "    <tr>\n",
       "      <th>0</th>\n",
       "      <td>Ga disappointed neat products .. Meletot Hilsn...</td>\n",
       "      <td>1</td>\n",
       "      <td>Ga disappointed neat products  Meletot Hilsnya...</td>\n",
       "    </tr>\n",
       "    <tr>\n",
       "      <th>1</th>\n",
       "      <td>Rdtanya replace broken glass, broken chargernya</td>\n",
       "      <td>1</td>\n",
       "      <td>Rdtanya replace broken glass broken chargernya</td>\n",
       "    </tr>\n",
       "    <tr>\n",
       "      <th>2</th>\n",
       "      <td>Nyesel bngt dsni shopping antecedent photo mes...</td>\n",
       "      <td>1</td>\n",
       "      <td>Nyesel bngt dsni shopping antecedent photo mes...</td>\n",
       "    </tr>\n",
       "    <tr>\n",
       "      <th>3</th>\n",
       "      <td>Sent a light blue suit goods ga want a refund</td>\n",
       "      <td>1</td>\n",
       "      <td>Sent a light blue suit goods ga want a refund</td>\n",
       "    </tr>\n",
       "    <tr>\n",
       "      <th>4</th>\n",
       "      <td>Pendants came with dents and scratches on its ...</td>\n",
       "      <td>1</td>\n",
       "      <td>Pendants came with dents and scratches on its ...</td>\n",
       "    </tr>\n",
       "  </tbody>\n",
       "</table>\n",
       "</div>"
      ],
      "text/plain": [
       "                                              review  rating  \\\n",
       "0  Ga disappointed neat products .. Meletot Hilsn...       1   \n",
       "1    Rdtanya replace broken glass, broken chargernya       1   \n",
       "2  Nyesel bngt dsni shopping antecedent photo mes...       1   \n",
       "3      Sent a light blue suit goods ga want a refund       1   \n",
       "4  Pendants came with dents and scratches on its ...       1   \n",
       "\n",
       "                                          clean_text  \n",
       "0  Ga disappointed neat products  Meletot Hilsnya...  \n",
       "1     Rdtanya replace broken glass broken chargernya  \n",
       "2  Nyesel bngt dsni shopping antecedent photo mes...  \n",
       "3      Sent a light blue suit goods ga want a refund  \n",
       "4  Pendants came with dents and scratches on its ...  "
      ]
     },
     "execution_count": 78,
     "metadata": {},
     "output_type": "execute_result"
    }
   ],
   "source": [
    "def remove_punctuation(text):\n",
    "    no_punct=[words for words in text if words not in string.punctuation]\n",
    "    words_wo_punct=''.join(no_punct)\n",
    "    return words_wo_punct\n",
    "data['clean_text']=data['review'].apply(lambda x: remove_punctuation(x))\n",
    "data.head()"
   ]
  },
  {
   "cell_type": "code",
   "execution_count": 79,
   "metadata": {},
   "outputs": [
    {
     "name": "stderr",
     "output_type": "stream",
     "text": [
      "C:\\Users\\laptop\\anaconda3\\envs\\ml\\lib\\site-packages\\ipykernel_launcher.py:2: FutureWarning: The default value of regex will change from True to False in a future version.\n",
      "  \n",
      "C:\\Users\\laptop\\anaconda3\\envs\\ml\\lib\\site-packages\\ipykernel_launcher.py:4: FutureWarning: The default value of regex will change from True to False in a future version.\n",
      "  after removing the cwd from sys.path.\n"
     ]
    },
    {
     "data": {
      "text/html": [
       "<div>\n",
       "<style scoped>\n",
       "    .dataframe tbody tr th:only-of-type {\n",
       "        vertical-align: middle;\n",
       "    }\n",
       "\n",
       "    .dataframe tbody tr th {\n",
       "        vertical-align: top;\n",
       "    }\n",
       "\n",
       "    .dataframe thead th {\n",
       "        text-align: right;\n",
       "    }\n",
       "</style>\n",
       "<table border=\"1\" class=\"dataframe\">\n",
       "  <thead>\n",
       "    <tr style=\"text-align: right;\">\n",
       "      <th></th>\n",
       "      <th>review</th>\n",
       "      <th>rating</th>\n",
       "      <th>clean_text</th>\n",
       "    </tr>\n",
       "  </thead>\n",
       "  <tbody>\n",
       "    <tr>\n",
       "      <th>0</th>\n",
       "      <td>Ga disappointed neat products .. Meletot Hilsn...</td>\n",
       "      <td>1</td>\n",
       "      <td>ga disappointed neat products  meletot hilsnya...</td>\n",
       "    </tr>\n",
       "    <tr>\n",
       "      <th>1</th>\n",
       "      <td>Rdtanya replace broken glass, broken chargernya</td>\n",
       "      <td>1</td>\n",
       "      <td>rdtanya replace broken glass broken chargernya</td>\n",
       "    </tr>\n",
       "    <tr>\n",
       "      <th>2</th>\n",
       "      <td>Nyesel bngt dsni shopping antecedent photo mes...</td>\n",
       "      <td>1</td>\n",
       "      <td>nyesel bngt dsni shopping antecedent photo mes...</td>\n",
       "    </tr>\n",
       "    <tr>\n",
       "      <th>3</th>\n",
       "      <td>Sent a light blue suit goods ga want a refund</td>\n",
       "      <td>1</td>\n",
       "      <td>sent a light blue suit goods ga want a refund</td>\n",
       "    </tr>\n",
       "    <tr>\n",
       "      <th>4</th>\n",
       "      <td>Pendants came with dents and scratches on its ...</td>\n",
       "      <td>1</td>\n",
       "      <td>pendants came with dents and scratches on its ...</td>\n",
       "    </tr>\n",
       "  </tbody>\n",
       "</table>\n",
       "</div>"
      ],
      "text/plain": [
       "                                              review  rating  \\\n",
       "0  Ga disappointed neat products .. Meletot Hilsn...       1   \n",
       "1    Rdtanya replace broken glass, broken chargernya       1   \n",
       "2  Nyesel bngt dsni shopping antecedent photo mes...       1   \n",
       "3      Sent a light blue suit goods ga want a refund       1   \n",
       "4  Pendants came with dents and scratches on its ...       1   \n",
       "\n",
       "                                          clean_text  \n",
       "0  ga disappointed neat products  meletot hilsnya...  \n",
       "1     rdtanya replace broken glass broken chargernya  \n",
       "2  nyesel bngt dsni shopping antecedent photo mes...  \n",
       "3      sent a light blue suit goods ga want a refund  \n",
       "4  pendants came with dents and scratches on its ...  "
      ]
     },
     "execution_count": 79,
     "metadata": {},
     "output_type": "execute_result"
    }
   ],
   "source": [
    "#remove hyperlink\n",
    "data['clean_text'] = data['clean_text'].str.replace(r\"http\\S+\", \"\") \n",
    "#remove emoji\n",
    "data['clean_text'] = data['clean_text'].str.replace('[^\\w\\s#@/:%.,_-]', '', flags=re.UNICODE)\n",
    "#convert all words to lowercase\n",
    "data['clean_text'] = data['clean_text'].str.lower()\n",
    "data.head()"
   ]
  },
  {
   "cell_type": "code",
   "execution_count": 80,
   "metadata": {},
   "outputs": [],
   "source": [
    "# not my original code (spanyol code lol)\n",
    "def recover_shortened_words(text):\n",
    "  \n",
    "    text = re.sub(r'\\bapaa\\b', 'apa', text)\n",
    "    \n",
    "    text = re.sub(r'\\bbsk\\b', 'besok', text)\n",
    "    text = re.sub(r'\\bbrngnya\\b', 'barangnya', text)\n",
    "    text = re.sub(r'\\bbrp\\b', 'berapa', text)\n",
    "    text = re.sub(r'\\bbgt\\b', 'banget', text)\n",
    "    text = re.sub(r'\\bbngt\\b', 'banget', text)\n",
    "    text = re.sub(r'\\bgini\\b', 'begini', text)\n",
    "    text = re.sub(r'\\bbrg\\b', 'barang', text)\n",
    "    \n",
    "    text = re.sub(r'\\bdtg\\b', 'datang', text)\n",
    "    text = re.sub(r'\\bd\\b', 'di', text)\n",
    "    text = re.sub(r'\\bsdh\\b', 'sudah', text)\n",
    "    text = re.sub(r'\\bdri\\b', 'dari', text)\n",
    "    text = re.sub(r'\\bdsni\\b', 'disini', text)\n",
    "    \n",
    "    text = re.sub(r'\\bgk\\b', 'gak', text)\n",
    "    \n",
    "    text = re.sub(r'\\bhrs\\b', 'harus', text)\n",
    "    \n",
    "    text = re.sub(r'\\bjd\\b', 'jadi', text)\n",
    "    text = re.sub(r'\\bjg\\b', 'juga', text)\n",
    "    text = re.sub(r'\\bjgn\\b', 'jangan', text)\n",
    "    \n",
    "    text = re.sub(r'\\blg\\b', 'lagi', text)\n",
    "    text = re.sub(r'\\blgi\\b', 'lagi', text)\n",
    "    text = re.sub(r'\\blbh\\b', 'lebih', text)\n",
    "    text = re.sub(r'\\blbih\\b', 'lebih', text)\n",
    "    \n",
    "    text = re.sub(r'\\bmksh\\b', 'makasih', text)\n",
    "    text = re.sub(r'\\bmna\\b', 'mana', text)\n",
    "    \n",
    "    text = re.sub(r'\\borg\\b', 'orang', text)\n",
    "    \n",
    "    text = re.sub(r'\\bpjg\\b', 'panjang', text)\n",
    "    \n",
    "    text = re.sub(r'\\bka\\b', 'kakak', text)\n",
    "    text = re.sub(r'\\bkk\\b', 'kakak', text)\n",
    "    text = re.sub(r'\\bklo\\b', 'kalau', text)\n",
    "    text = re.sub(r'\\bkmrn\\b', 'kemarin', text)\n",
    "    text = re.sub(r'\\bkmrin\\b', 'kemarin', text)\n",
    "    text = re.sub(r'\\bknp\\b', 'kenapa', text)\n",
    "    text = re.sub(r'\\bkcil\\b', 'kecil', text)\n",
    "    \n",
    "    text = re.sub(r'\\bgmn\\b', 'gimana', text)\n",
    "    text = re.sub(r'\\bgmna\\b', 'gimana', text)\n",
    "    \n",
    "    text = re.sub(r'\\btp\\b', 'tapi', text)\n",
    "    text = re.sub(r'\\btq\\b', 'thanks', text)\n",
    "    text = re.sub(r'\\btks\\b', 'thanks', text)\n",
    "    text = re.sub(r'\\btlg\\b', 'tolong', text)\n",
    "    text = re.sub(r'\\bgk\\b', 'tidak', text)\n",
    "    text = re.sub(r'\\bgak\\b', 'tidak', text)\n",
    "    text = re.sub(r'\\bgpp\\b', 'tidak apa apa', text)\n",
    "    text = re.sub(r'\\bgapapa\\b', 'tidak apa apa', text)\n",
    "    text = re.sub(r'\\bga\\b', 'tidak', text)\n",
    "    text = re.sub(r'\\btgl\\b', 'tanggal', text)\n",
    "    text = re.sub(r'\\btggl\\b', 'tanggal', text)\n",
    "    text = re.sub(r'\\bgamau\\b', 'tidak mau', text)\n",
    "    \n",
    "    text = re.sub(r'\\bsy\\b', 'saya', text)\n",
    "    text = re.sub(r'\\bsis\\b', 'sister', text)\n",
    "    text = re.sub(r'\\bsdgkan\\b', 'sedangkan', text)\n",
    "    text = re.sub(r'\\bmdh2n\\b', 'semoga', text)\n",
    "    text = re.sub(r'\\bsmoga\\b', 'semoga', text)\n",
    "    text = re.sub(r'\\bsmpai\\b', 'sampai', text)\n",
    "    text = re.sub(r'\\bnympe\\b', 'sampai', text)\n",
    "    text = re.sub(r'\\bdah\\b', 'sudah', text)\n",
    "    \n",
    "    text = re.sub(r'\\bberkali2\\b', 'repeated', text)\n",
    "  \n",
    "    text = re.sub(r'\\byg\\b', 'yang', text)\n",
    "    \n",
    "    return text"
   ]
  },
  {
   "cell_type": "code",
   "execution_count": 81,
   "metadata": {},
   "outputs": [
    {
     "data": {
      "text/html": [
       "<div>\n",
       "<style scoped>\n",
       "    .dataframe tbody tr th:only-of-type {\n",
       "        vertical-align: middle;\n",
       "    }\n",
       "\n",
       "    .dataframe tbody tr th {\n",
       "        vertical-align: top;\n",
       "    }\n",
       "\n",
       "    .dataframe thead th {\n",
       "        text-align: right;\n",
       "    }\n",
       "</style>\n",
       "<table border=\"1\" class=\"dataframe\">\n",
       "  <thead>\n",
       "    <tr style=\"text-align: right;\">\n",
       "      <th></th>\n",
       "      <th>review</th>\n",
       "      <th>rating</th>\n",
       "      <th>clean_text</th>\n",
       "    </tr>\n",
       "  </thead>\n",
       "  <tbody>\n",
       "    <tr>\n",
       "      <th>0</th>\n",
       "      <td>Ga disappointed neat products .. Meletot Hilsn...</td>\n",
       "      <td>1</td>\n",
       "      <td>tidak disappointed neat products  meletot hils...</td>\n",
       "    </tr>\n",
       "    <tr>\n",
       "      <th>1</th>\n",
       "      <td>Rdtanya replace broken glass, broken chargernya</td>\n",
       "      <td>1</td>\n",
       "      <td>rdtanya replace broken glass broken chargernya</td>\n",
       "    </tr>\n",
       "    <tr>\n",
       "      <th>2</th>\n",
       "      <td>Nyesel bngt dsni shopping antecedent photo mes...</td>\n",
       "      <td>1</td>\n",
       "      <td>nyesel banget disini shopping antecedent photo...</td>\n",
       "    </tr>\n",
       "    <tr>\n",
       "      <th>3</th>\n",
       "      <td>Sent a light blue suit goods ga want a refund</td>\n",
       "      <td>1</td>\n",
       "      <td>sent a light blue suit goods tidak want a refund</td>\n",
       "    </tr>\n",
       "    <tr>\n",
       "      <th>4</th>\n",
       "      <td>Pendants came with dents and scratches on its ...</td>\n",
       "      <td>1</td>\n",
       "      <td>pendants came with dents and scratches on its ...</td>\n",
       "    </tr>\n",
       "  </tbody>\n",
       "</table>\n",
       "</div>"
      ],
      "text/plain": [
       "                                              review  rating  \\\n",
       "0  Ga disappointed neat products .. Meletot Hilsn...       1   \n",
       "1    Rdtanya replace broken glass, broken chargernya       1   \n",
       "2  Nyesel bngt dsni shopping antecedent photo mes...       1   \n",
       "3      Sent a light blue suit goods ga want a refund       1   \n",
       "4  Pendants came with dents and scratches on its ...       1   \n",
       "\n",
       "                                          clean_text  \n",
       "0  tidak disappointed neat products  meletot hils...  \n",
       "1     rdtanya replace broken glass broken chargernya  \n",
       "2  nyesel banget disini shopping antecedent photo...  \n",
       "3   sent a light blue suit goods tidak want a refund  \n",
       "4  pendants came with dents and scratches on its ...  "
      ]
     },
     "execution_count": 81,
     "metadata": {},
     "output_type": "execute_result"
    }
   ],
   "source": [
    "data['clean_text'] = data['clean_text'].apply(recover_shortened_words)\n",
    "data.head()"
   ]
  },
  {
   "cell_type": "code",
   "execution_count": 82,
   "metadata": {},
   "outputs": [
    {
     "name": "stderr",
     "output_type": "stream",
     "text": [
      "[nltk_data] Downloading package punkt to\n",
      "[nltk_data]     C:\\Users\\laptop\\AppData\\Roaming\\nltk_data...\n",
      "[nltk_data]   Package punkt is already up-to-date!\n"
     ]
    }
   ],
   "source": [
    "nltk.download('punkt')\n",
    "def tokenize(text):\n",
    "    split=re.split(\"\\W+\",text) \n",
    "    return split\n",
    "data['clean_text_tokenize']=data['clean_text'].apply(lambda x: tokenize(x.lower()))"
   ]
  },
  {
   "cell_type": "code",
   "execution_count": 83,
   "metadata": {},
   "outputs": [
    {
     "name": "stderr",
     "output_type": "stream",
     "text": [
      "[nltk_data] Downloading package stopwords to\n",
      "[nltk_data]     C:\\Users\\laptop\\AppData\\Roaming\\nltk_data...\n",
      "[nltk_data]   Package stopwords is already up-to-date!\n"
     ]
    },
    {
     "data": {
      "text/html": [
       "<div>\n",
       "<style scoped>\n",
       "    .dataframe tbody tr th:only-of-type {\n",
       "        vertical-align: middle;\n",
       "    }\n",
       "\n",
       "    .dataframe tbody tr th {\n",
       "        vertical-align: top;\n",
       "    }\n",
       "\n",
       "    .dataframe thead th {\n",
       "        text-align: right;\n",
       "    }\n",
       "</style>\n",
       "<table border=\"1\" class=\"dataframe\">\n",
       "  <thead>\n",
       "    <tr style=\"text-align: right;\">\n",
       "      <th></th>\n",
       "      <th>review</th>\n",
       "      <th>rating</th>\n",
       "      <th>clean_text</th>\n",
       "      <th>clean_text_tokenize</th>\n",
       "      <th>clean_text_tokenize_stopwords</th>\n",
       "    </tr>\n",
       "  </thead>\n",
       "  <tbody>\n",
       "    <tr>\n",
       "      <th>0</th>\n",
       "      <td>Ga disappointed neat products .. Meletot Hilsn...</td>\n",
       "      <td>1</td>\n",
       "      <td>tidak disappointed neat products  meletot hils...</td>\n",
       "      <td>[tidak, disappointed, neat, products, meletot,...</td>\n",
       "      <td>[tidak, disappointed, neat, products, meletot,...</td>\n",
       "    </tr>\n",
       "    <tr>\n",
       "      <th>1</th>\n",
       "      <td>Rdtanya replace broken glass, broken chargernya</td>\n",
       "      <td>1</td>\n",
       "      <td>rdtanya replace broken glass broken chargernya</td>\n",
       "      <td>[rdtanya, replace, broken, glass, broken, char...</td>\n",
       "      <td>[rdtanya, replace, broken, glass, broken, char...</td>\n",
       "    </tr>\n",
       "    <tr>\n",
       "      <th>2</th>\n",
       "      <td>Nyesel bngt dsni shopping antecedent photo mes...</td>\n",
       "      <td>1</td>\n",
       "      <td>nyesel banget disini shopping antecedent photo...</td>\n",
       "      <td>[nyesel, banget, disini, shopping, antecedent,...</td>\n",
       "      <td>[nyesel, banget, disini, shopping, antecedent,...</td>\n",
       "    </tr>\n",
       "    <tr>\n",
       "      <th>3</th>\n",
       "      <td>Sent a light blue suit goods ga want a refund</td>\n",
       "      <td>1</td>\n",
       "      <td>sent a light blue suit goods tidak want a refund</td>\n",
       "      <td>[sent, a, light, blue, suit, goods, tidak, wan...</td>\n",
       "      <td>[sent, light, blue, suit, goods, tidak, want, ...</td>\n",
       "    </tr>\n",
       "    <tr>\n",
       "      <th>4</th>\n",
       "      <td>Pendants came with dents and scratches on its ...</td>\n",
       "      <td>1</td>\n",
       "      <td>pendants came with dents and scratches on its ...</td>\n",
       "      <td>[pendants, came, with, dents, and, scratches, ...</td>\n",
       "      <td>[pendants, came, dents, scratches, surface, co...</td>\n",
       "    </tr>\n",
       "    <tr>\n",
       "      <th>5</th>\n",
       "      <td>Dg yg depending being sent in photos</td>\n",
       "      <td>1</td>\n",
       "      <td>dg yang depending being sent in photos</td>\n",
       "      <td>[dg, yang, depending, being, sent, in, photos]</td>\n",
       "      <td>[dg, yang, depending, sent, photos]</td>\n",
       "    </tr>\n",
       "    <tr>\n",
       "      <th>6</th>\n",
       "      <td>Hours not a hologram</td>\n",
       "      <td>1</td>\n",
       "      <td>hours not a hologram</td>\n",
       "      <td>[hours, not, a, hologram]</td>\n",
       "      <td>[hours, hologram]</td>\n",
       "    </tr>\n",
       "    <tr>\n",
       "      <th>7</th>\n",
       "      <td>Shop fraudulent business. we put two lamps, on...</td>\n",
       "      <td>1</td>\n",
       "      <td>shop fraudulent business we put two lamps one ...</td>\n",
       "      <td>[shop, fraudulent, business, we, put, two, lam...</td>\n",
       "      <td>[shop, fraudulent, business, put, two, lamps, ...</td>\n",
       "    </tr>\n",
       "    <tr>\n",
       "      <th>8</th>\n",
       "      <td>Well, according to Price</td>\n",
       "      <td>1</td>\n",
       "      <td>well according to price</td>\n",
       "      <td>[well, according, to, price]</td>\n",
       "      <td>[well, according, price]</td>\n",
       "    </tr>\n",
       "    <tr>\n",
       "      <th>9</th>\n",
       "      <td>Pictures and names of elise 7154, but the bran...</td>\n",
       "      <td>1</td>\n",
       "      <td>pictures and names of elise 7154 but the brand...</td>\n",
       "      <td>[pictures, and, names, of, elise, 7154, but, t...</td>\n",
       "      <td>[pictures, names, elise, 7154, brand, bg, balq...</td>\n",
       "    </tr>\n",
       "  </tbody>\n",
       "</table>\n",
       "</div>"
      ],
      "text/plain": [
       "                                              review  rating  \\\n",
       "0  Ga disappointed neat products .. Meletot Hilsn...       1   \n",
       "1    Rdtanya replace broken glass, broken chargernya       1   \n",
       "2  Nyesel bngt dsni shopping antecedent photo mes...       1   \n",
       "3      Sent a light blue suit goods ga want a refund       1   \n",
       "4  Pendants came with dents and scratches on its ...       1   \n",
       "5               Dg yg depending being sent in photos       1   \n",
       "6                               Hours not a hologram       1   \n",
       "7  Shop fraudulent business. we put two lamps, on...       1   \n",
       "8                           Well, according to Price       1   \n",
       "9  Pictures and names of elise 7154, but the bran...       1   \n",
       "\n",
       "                                          clean_text  \\\n",
       "0  tidak disappointed neat products  meletot hils...   \n",
       "1     rdtanya replace broken glass broken chargernya   \n",
       "2  nyesel banget disini shopping antecedent photo...   \n",
       "3   sent a light blue suit goods tidak want a refund   \n",
       "4  pendants came with dents and scratches on its ...   \n",
       "5             dg yang depending being sent in photos   \n",
       "6                               hours not a hologram   \n",
       "7  shop fraudulent business we put two lamps one ...   \n",
       "8                            well according to price   \n",
       "9  pictures and names of elise 7154 but the brand...   \n",
       "\n",
       "                                 clean_text_tokenize  \\\n",
       "0  [tidak, disappointed, neat, products, meletot,...   \n",
       "1  [rdtanya, replace, broken, glass, broken, char...   \n",
       "2  [nyesel, banget, disini, shopping, antecedent,...   \n",
       "3  [sent, a, light, blue, suit, goods, tidak, wan...   \n",
       "4  [pendants, came, with, dents, and, scratches, ...   \n",
       "5     [dg, yang, depending, being, sent, in, photos]   \n",
       "6                          [hours, not, a, hologram]   \n",
       "7  [shop, fraudulent, business, we, put, two, lam...   \n",
       "8                       [well, according, to, price]   \n",
       "9  [pictures, and, names, of, elise, 7154, but, t...   \n",
       "\n",
       "                       clean_text_tokenize_stopwords  \n",
       "0  [tidak, disappointed, neat, products, meletot,...  \n",
       "1  [rdtanya, replace, broken, glass, broken, char...  \n",
       "2  [nyesel, banget, disini, shopping, antecedent,...  \n",
       "3  [sent, light, blue, suit, goods, tidak, want, ...  \n",
       "4  [pendants, came, dents, scratches, surface, co...  \n",
       "5                [dg, yang, depending, sent, photos]  \n",
       "6                                  [hours, hologram]  \n",
       "7  [shop, fraudulent, business, put, two, lamps, ...  \n",
       "8                           [well, according, price]  \n",
       "9  [pictures, names, elise, 7154, brand, bg, balq...  "
      ]
     },
     "execution_count": 83,
     "metadata": {},
     "output_type": "execute_result"
    }
   ],
   "source": [
    "nltk.download('stopwords')\n",
    "stopword = nltk.corpus.stopwords.words('english')\n",
    "def remove_stopwords(text):\n",
    "    text=[word for word in text if word not in stopword]\n",
    "    return text\n",
    "data['clean_text_tokenize_stopwords'] = data['clean_text_tokenize'].apply(lambda x: remove_stopwords(x))\n",
    "data.head(10)"
   ]
  },
  {
   "cell_type": "code",
   "execution_count": 91,
   "metadata": {},
   "outputs": [],
   "source": [
    "from nltk.tokenize.treebank import TreebankWordDetokenizer\n",
    "detok = TreebankWordDetokenizer()\n",
    "data['clean_text_stopwords'] = data['clean_text_tokenize_stopwords'].apply(lambda x: detok.detokenize(x))"
   ]
  },
  {
   "cell_type": "code",
   "execution_count": 92,
   "metadata": {},
   "outputs": [
    {
     "data": {
      "text/html": [
       "<div>\n",
       "<style scoped>\n",
       "    .dataframe tbody tr th:only-of-type {\n",
       "        vertical-align: middle;\n",
       "    }\n",
       "\n",
       "    .dataframe tbody tr th {\n",
       "        vertical-align: top;\n",
       "    }\n",
       "\n",
       "    .dataframe thead th {\n",
       "        text-align: right;\n",
       "    }\n",
       "</style>\n",
       "<table border=\"1\" class=\"dataframe\">\n",
       "  <thead>\n",
       "    <tr style=\"text-align: right;\">\n",
       "      <th></th>\n",
       "      <th>review</th>\n",
       "      <th>rating</th>\n",
       "      <th>clean_text</th>\n",
       "      <th>clean_text_tokenize</th>\n",
       "      <th>clean_text_tokenize_stopwords</th>\n",
       "      <th>clean_text_stopwords</th>\n",
       "    </tr>\n",
       "  </thead>\n",
       "  <tbody>\n",
       "    <tr>\n",
       "      <th>0</th>\n",
       "      <td>Ga disappointed neat products .. Meletot Hilsn...</td>\n",
       "      <td>1</td>\n",
       "      <td>tidak disappointed neat products  meletot hils...</td>\n",
       "      <td>[tidak, disappointed, neat, products, meletot,...</td>\n",
       "      <td>[tidak, disappointed, neat, products, meletot,...</td>\n",
       "      <td>tidak disappointed neat products meletot hilsn...</td>\n",
       "    </tr>\n",
       "    <tr>\n",
       "      <th>1</th>\n",
       "      <td>Rdtanya replace broken glass, broken chargernya</td>\n",
       "      <td>1</td>\n",
       "      <td>rdtanya replace broken glass broken chargernya</td>\n",
       "      <td>[rdtanya, replace, broken, glass, broken, char...</td>\n",
       "      <td>[rdtanya, replace, broken, glass, broken, char...</td>\n",
       "      <td>rdtanya replace broken glass broken chargernya</td>\n",
       "    </tr>\n",
       "    <tr>\n",
       "      <th>2</th>\n",
       "      <td>Nyesel bngt dsni shopping antecedent photo mes...</td>\n",
       "      <td>1</td>\n",
       "      <td>nyesel banget disini shopping antecedent photo...</td>\n",
       "      <td>[nyesel, banget, disini, shopping, antecedent,...</td>\n",
       "      <td>[nyesel, banget, disini, shopping, antecedent,...</td>\n",
       "      <td>nyesel banget disini shopping antecedent photo...</td>\n",
       "    </tr>\n",
       "    <tr>\n",
       "      <th>3</th>\n",
       "      <td>Sent a light blue suit goods ga want a refund</td>\n",
       "      <td>1</td>\n",
       "      <td>sent a light blue suit goods tidak want a refund</td>\n",
       "      <td>[sent, a, light, blue, suit, goods, tidak, wan...</td>\n",
       "      <td>[sent, light, blue, suit, goods, tidak, want, ...</td>\n",
       "      <td>sent light blue suit goods tidak want refund</td>\n",
       "    </tr>\n",
       "    <tr>\n",
       "      <th>4</th>\n",
       "      <td>Pendants came with dents and scratches on its ...</td>\n",
       "      <td>1</td>\n",
       "      <td>pendants came with dents and scratches on its ...</td>\n",
       "      <td>[pendants, came, with, dents, and, scratches, ...</td>\n",
       "      <td>[pendants, came, dents, scratches, surface, co...</td>\n",
       "      <td>pendants came dents scratches surface coating ...</td>\n",
       "    </tr>\n",
       "  </tbody>\n",
       "</table>\n",
       "</div>"
      ],
      "text/plain": [
       "                                              review  rating  \\\n",
       "0  Ga disappointed neat products .. Meletot Hilsn...       1   \n",
       "1    Rdtanya replace broken glass, broken chargernya       1   \n",
       "2  Nyesel bngt dsni shopping antecedent photo mes...       1   \n",
       "3      Sent a light blue suit goods ga want a refund       1   \n",
       "4  Pendants came with dents and scratches on its ...       1   \n",
       "\n",
       "                                          clean_text  \\\n",
       "0  tidak disappointed neat products  meletot hils...   \n",
       "1     rdtanya replace broken glass broken chargernya   \n",
       "2  nyesel banget disini shopping antecedent photo...   \n",
       "3   sent a light blue suit goods tidak want a refund   \n",
       "4  pendants came with dents and scratches on its ...   \n",
       "\n",
       "                                 clean_text_tokenize  \\\n",
       "0  [tidak, disappointed, neat, products, meletot,...   \n",
       "1  [rdtanya, replace, broken, glass, broken, char...   \n",
       "2  [nyesel, banget, disini, shopping, antecedent,...   \n",
       "3  [sent, a, light, blue, suit, goods, tidak, wan...   \n",
       "4  [pendants, came, with, dents, and, scratches, ...   \n",
       "\n",
       "                       clean_text_tokenize_stopwords  \\\n",
       "0  [tidak, disappointed, neat, products, meletot,...   \n",
       "1  [rdtanya, replace, broken, glass, broken, char...   \n",
       "2  [nyesel, banget, disini, shopping, antecedent,...   \n",
       "3  [sent, light, blue, suit, goods, tidak, want, ...   \n",
       "4  [pendants, came, dents, scratches, surface, co...   \n",
       "\n",
       "                                clean_text_stopwords  \n",
       "0  tidak disappointed neat products meletot hilsn...  \n",
       "1     rdtanya replace broken glass broken chargernya  \n",
       "2  nyesel banget disini shopping antecedent photo...  \n",
       "3       sent light blue suit goods tidak want refund  \n",
       "4  pendants came dents scratches surface coating ...  "
      ]
     },
     "execution_count": 92,
     "metadata": {},
     "output_type": "execute_result"
    }
   ],
   "source": [
    "data.head(5)"
   ]
  },
  {
   "cell_type": "code",
   "execution_count": 97,
   "metadata": {},
   "outputs": [
    {
     "data": {
      "text/html": [
       "<div>\n",
       "<style scoped>\n",
       "    .dataframe tbody tr th:only-of-type {\n",
       "        vertical-align: middle;\n",
       "    }\n",
       "\n",
       "    .dataframe tbody tr th {\n",
       "        vertical-align: top;\n",
       "    }\n",
       "\n",
       "    .dataframe thead th {\n",
       "        text-align: right;\n",
       "    }\n",
       "</style>\n",
       "<table border=\"1\" class=\"dataframe\">\n",
       "  <thead>\n",
       "    <tr style=\"text-align: right;\">\n",
       "      <th></th>\n",
       "      <th>clean_text</th>\n",
       "      <th>clean_text_stopwords</th>\n",
       "    </tr>\n",
       "  </thead>\n",
       "  <tbody>\n",
       "    <tr>\n",
       "      <th>0</th>\n",
       "      <td>tidak disappointed neat products  meletot hils...</td>\n",
       "      <td>tidak disappointed neat products meletot hilsn...</td>\n",
       "    </tr>\n",
       "    <tr>\n",
       "      <th>1</th>\n",
       "      <td>rdtanya replace broken glass broken chargernya</td>\n",
       "      <td>rdtanya replace broken glass broken chargernya</td>\n",
       "    </tr>\n",
       "    <tr>\n",
       "      <th>2</th>\n",
       "      <td>nyesel banget disini shopping antecedent photo...</td>\n",
       "      <td>nyesel banget disini shopping antecedent photo...</td>\n",
       "    </tr>\n",
       "    <tr>\n",
       "      <th>3</th>\n",
       "      <td>sent a light blue suit goods tidak want a refund</td>\n",
       "      <td>sent light blue suit goods tidak want refund</td>\n",
       "    </tr>\n",
       "    <tr>\n",
       "      <th>4</th>\n",
       "      <td>pendants came with dents and scratches on its ...</td>\n",
       "      <td>pendants came dents scratches surface coating ...</td>\n",
       "    </tr>\n",
       "  </tbody>\n",
       "</table>\n",
       "</div>"
      ],
      "text/plain": [
       "                                          clean_text  \\\n",
       "0  tidak disappointed neat products  meletot hils...   \n",
       "1     rdtanya replace broken glass broken chargernya   \n",
       "2  nyesel banget disini shopping antecedent photo...   \n",
       "3   sent a light blue suit goods tidak want a refund   \n",
       "4  pendants came with dents and scratches on its ...   \n",
       "\n",
       "                                clean_text_stopwords  \n",
       "0  tidak disappointed neat products meletot hilsn...  \n",
       "1     rdtanya replace broken glass broken chargernya  \n",
       "2  nyesel banget disini shopping antecedent photo...  \n",
       "3       sent light blue suit goods tidak want refund  \n",
       "4  pendants came dents scratches surface coating ...  "
      ]
     },
     "execution_count": 97,
     "metadata": {},
     "output_type": "execute_result"
    }
   ],
   "source": [
    "df_clean = data[['clean_text', 'clean_text_stopwords']]\n",
    "df_clean.head(5)\n",
    "\n",
    "# terserah, mau pakai clean text (masih ada stopwords) atau pakai clean_text_stopwords (sudah tidak ada stopwords)"
   ]
  },
  {
   "cell_type": "code",
   "execution_count": null,
   "metadata": {},
   "outputs": [],
   "source": []
  }
 ],
 "metadata": {
  "kernelspec": {
   "display_name": "Python [conda env:ml] *",
   "language": "python",
   "name": "conda-env-ml-py"
  },
  "language_info": {
   "codemirror_mode": {
    "name": "ipython",
    "version": 3
   },
   "file_extension": ".py",
   "mimetype": "text/x-python",
   "name": "python",
   "nbconvert_exporter": "python",
   "pygments_lexer": "ipython3",
   "version": "3.7.9"
  }
 },
 "nbformat": 4,
 "nbformat_minor": 4
}
